{
 "cells": [
  {
   "cell_type": "markdown",
   "id": "28527f6f",
   "metadata": {},
   "source": [
    "# TP: Mesurez la puissance des forêts aléatoires"
   ]
  },
  {
   "cell_type": "markdown",
   "id": "4a7da881",
   "metadata": {},
   "source": [
    "Le fonctionnement des forêts aléatoires doit maintenant être un peu plus clair pour vous. Il est temps de passer à la pratique en observant les performances de ce type de modèle sur des données réelles.\n",
    "\n",
    "On va appliquer l’algorithme des forêts aléatoires sur un exemple concret. Le jeu de données que choisi est assez connu : il permet de reconnaître l’activité physique à partir de données du smartphone. Il est simple mais possède de nombreuses variables (> 500) ce qui va nous permettre d’étudier un certain nombre de choses. \n",
    "\n",
    "Pour commencer télécharger le dataset en vous servant du lien qui suit : https://www.kaggle.com/uciml/human-activity-recognition-with-smartphones"
   ]
  },
  {
   "cell_type": "markdown",
   "id": "e27bf95d",
   "metadata": {},
   "source": [
    "## Le dataset "
   ]
  },
  {
   "cell_type": "markdown",
   "id": "9009c858",
   "metadata": {},
   "source": [
    "En plus de charger le dataset, vous pouvez aussi observer le fichier de description des différentes variables afin d’avoir une meilleur idée des données à disposition."
   ]
  },
  {
   "cell_type": "markdown",
   "id": "2a927043",
   "metadata": {},
   "source": [
    "Dans un premier temps, étudions le dataset à notre disposition : le \"Human Activity Recognition Using Smartphones Data Set\".\n",
    "\n",
    "Ce jeu de données contient les logs de capteurs de smartphone sur une trentaine d'individus en train d'effectuer des activités (s'assoir, se mettre debout, marcher, etc). L'objectif sera de prédire à partir des logs de capteurs le type d'activités que le sujet est en train d'effectuer.\n",
    "\n",
    "En regardant le fichier de description du dataset, on peut observer qu'il y a beaucoup de features (561). D'emblée, en observant ce qu'elles désignent, on peut se dire qu'il y a une certaine redondance entre toutes ces variables. Dans un premier temps, on va effectuer une modélisation \"brute\" sans se soucier de nettoyer le jeu de données.\n",
    "\n",
    "Dans un second temps, on va utiliser cette première modélisation pour mieux comprendre le dataset et ainsi effectuer une seconde modélisation plus efficace en éliminant des variables peu importantes."
   ]
  },
  {
   "cell_type": "markdown",
   "id": "83f322ea",
   "metadata": {},
   "source": [
    "On commence par charger les données."
   ]
  },
  {
   "cell_type": "code",
   "execution_count": 1,
   "id": "1e2da36e",
   "metadata": {},
   "outputs": [],
   "source": [
    "import pandas as pd\n",
    "\n",
    "train = pd.read_csv(\"train.csv\")\n",
    "test = pd.read_csv(\"test.csv\")"
   ]
  },
  {
   "cell_type": "code",
   "execution_count": 2,
   "id": "b963b2f1",
   "metadata": {},
   "outputs": [
    {
     "name": "stdout",
     "output_type": "stream",
     "text": [
      "(7352, 563)\n"
     ]
    }
   ],
   "source": [
    "#On regarde la taille des données.\n",
    "print(train.shape)"
   ]
  },
  {
   "cell_type": "markdown",
   "id": "5c5643e2",
   "metadata": {},
   "source": [
    "Les données représentent des vecteurs de différentes mesures effectuées par le téléphone (accélération, secousses, etc). La dernière colonne représente l'activité, c'est ce qu'on va essayer de prédire à partir du reste.\n",
    "\n",
    "Regardons tout d'abord s'il existe des valeurs manquantes :"
   ]
  },
  {
   "cell_type": "code",
   "execution_count": 3,
   "id": "0a7ae8dd",
   "metadata": {},
   "outputs": [
    {
     "data": {
      "text/plain": [
       "tBodyAcc-mean()-X       0\n",
       "tBodyAcc-mean()-Y       0\n",
       "tBodyAcc-mean()-Z       0\n",
       "tBodyAcc-std()-X        0\n",
       "tBodyAcc-std()-Y        0\n",
       "                       ..\n",
       "angle(X,gravityMean)    0\n",
       "angle(Y,gravityMean)    0\n",
       "angle(Z,gravityMean)    0\n",
       "subject                 0\n",
       "Activity                0\n",
       "Length: 563, dtype: int64"
      ]
     },
     "execution_count": 3,
     "metadata": {},
     "output_type": "execute_result"
    }
   ],
   "source": [
    "train.isna().sum()"
   ]
  },
  {
   "cell_type": "markdown",
   "id": "c2f2b8f5",
   "metadata": {},
   "source": [
    "**ATTENTION** : Il se peut que votre jeu de données ne contienne pas de données manquantes. Si tel est le cas, tant mieux, vous pouvez passer directement à la modélisation.\n",
    "\n",
    "Si vous avez des données manquantes, voici comment les nettoyer."
   ]
  },
  {
   "cell_type": "markdown",
   "id": "b3d12034",
   "metadata": {},
   "source": [
    "Nous allons d'abord supprimer les valeurs manquantes de la target"
   ]
  },
  {
   "cell_type": "code",
   "execution_count": 4,
   "id": "cf3d40a5",
   "metadata": {},
   "outputs": [],
   "source": [
    "train = train.loc[train.Activity.notna()]"
   ]
  },
  {
   "cell_type": "markdown",
   "id": "c29881a7",
   "metadata": {},
   "source": [
    "Ensuite nous allons imputer les valeurs manquantes par la médiane."
   ]
  },
  {
   "cell_type": "code",
   "execution_count": 6,
   "id": "b683eba3",
   "metadata": {},
   "outputs": [
    {
     "name": "stdout",
     "output_type": "stream",
     "text": [
      "tBodyAcc-mean()-X                        0.277193\n",
      "tBodyAcc-mean()-Y                       -0.017219\n",
      "tBodyAcc-mean()-Z                       -0.108676\n",
      "tBodyAcc-std()-X                        -0.946196\n",
      "tBodyAcc-std()-Y                        -0.851897\n",
      "                                          ...    \n",
      "angle(tBodyGyroJerkMean,gravityMean)    -0.000368\n",
      "angle(X,gravityMean)                    -0.709417\n",
      "angle(Y,gravityMean)                     0.182071\n",
      "angle(Z,gravityMean)                     0.003181\n",
      "subject                                 19.000000\n",
      "Length: 562, dtype: float64\n",
      "(7352, 563)\n"
     ]
    }
   ],
   "source": [
    "import numpy as np\n",
    "\n",
    "train = train.fillna(np.nan).replace([np.nan], [train.median()])"
   ]
  },
  {
   "cell_type": "markdown",
   "id": "0d427f11",
   "metadata": {},
   "source": [
    "Vérifions que les données ne contiennent plus de valeurs manquantes :"
   ]
  },
  {
   "cell_type": "code",
   "execution_count": 7,
   "id": "cc527ac4",
   "metadata": {},
   "outputs": [
    {
     "data": {
      "text/plain": [
       "0"
      ]
     },
     "execution_count": 7,
     "metadata": {},
     "output_type": "execute_result"
    }
   ],
   "source": [
    "train.isna().sum().sum()\n",
    "# on obtient 0 donc il n'y a plus de valeurs manquantes."
   ]
  },
  {
   "cell_type": "markdown",
   "id": "c8028bf7",
   "metadata": {},
   "source": [
    "Faites, au besoin, la même chose pour le test, et enfin séparons X et y pour le train et pour le test."
   ]
  },
  {
   "cell_type": "code",
   "execution_count": 8,
   "id": "c7cd3db3",
   "metadata": {},
   "outputs": [],
   "source": [
    "X_train = train[train.columns[:-2]]\n",
    "y_train = train['Activity']\n",
    "\n",
    "X_test = test[test.columns[:-2]]\n",
    "y_test = test['Activity']"
   ]
  },
  {
   "cell_type": "markdown",
   "id": "51ad540e",
   "metadata": {},
   "source": [
    "On va d'abord éliminer les features redondantes (intuitivement, les coordonnées polaires et cartésiennes doivent être corrélées par exemple ... ) Une première manière de faire serait de réfléchir et se renseigner sur le domaine d'études en question pour pouvoir éliminer des variables qui transmettent des informations similaires où n'influencent pas ou très peu la prédiction que l'on veut effectuer.\n",
    "\n",
    "La seconde manière est d'utiliser justement une forêt aléatoire (!) de laquelle on va extraire l'importance des features qui la constituent, et ainsi déterminer quelles sont les features les plus importantes à partir de ça."
   ]
  },
  {
   "cell_type": "markdown",
   "id": "6c859c08",
   "metadata": {},
   "source": [
    "## Application des forêts aléatoires"
   ]
  },
  {
   "cell_type": "markdown",
   "id": "0454af0e",
   "metadata": {},
   "source": [
    "Une fois les données chargées, on peut déclarer un nouveau modèle de forêts aléatoires pour la classification logiquement appelé dans scikit   sklearn.RandomForestClassifier . On définit comme hyperparamètres 500 pour le nombre d'arbres. "
   ]
  },
  {
   "cell_type": "code",
   "execution_count": 9,
   "id": "6c10e178",
   "metadata": {},
   "outputs": [],
   "source": [
    "from sklearn.ensemble import RandomForestClassifier\n",
    "\n",
    "rfc = RandomForestClassifier(n_estimators=500, oob_score=True)"
   ]
  },
  {
   "cell_type": "markdown",
   "id": "a3a1c88f",
   "metadata": {},
   "source": [
    "On peut maintenant entraîner notre modèle sur les données brutes, sans autre forme de procès. \n",
    "**Patientez. ça peut prendre quelques minutes**"
   ]
  },
  {
   "cell_type": "code",
   "execution_count": 10,
   "id": "f42f5382",
   "metadata": {},
   "outputs": [],
   "source": [
    "model = rfc.fit(X_train, y_train)"
   ]
  },
  {
   "cell_type": "markdown",
   "id": "4a7b8b97",
   "metadata": {},
   "source": [
    "Voyons les  performances de ce modèle sur le jeu de données d'entraînement"
   ]
  },
  {
   "cell_type": "code",
   "execution_count": 11,
   "id": "f9fd991e",
   "metadata": {},
   "outputs": [
    {
     "name": "stdout",
     "output_type": "stream",
     "text": [
      "accuracy 0.93\n"
     ]
    }
   ],
   "source": [
    "from sklearn.metrics import accuracy_score\n",
    "\n",
    "pred = rfc.predict(X_test)\n",
    "print(\"accuracy {:.2f}\".format(accuracy_score(y_test, pred)))\n",
    "# 0.93/1 d'accuracy. Ce qui est vraiment bien"
   ]
  },
  {
   "cell_type": "markdown",
   "id": "005e4212",
   "metadata": {},
   "source": [
    "Maintenant que notre modèle est créé, on peut effectuer une sélection des features les plus importantes. Pour cela on va utiliser la fonction  SelectFromModel  qui utilise la propriété du modèle qu'on vient de créer  model.feature_importances_  qui permet d'évaluer l'importance relative des features fournies à la base (sur une échelle de 0 à 1). Intuitivement, cette importance est calculée en considérant que plus une feature est haute, plus elle contribue à une fraction plus élevée du jeu de donnée d'entraînement et donc des données au global. On considère donc qu'elle a plus d'importance que les features plus bas dans l'arbre. Cette fraction est utilisée comme estimateur de l'importance de la feature dans cet arbre, qu'on peut ensuite généraliser à la forêt entière. \n",
    "\n",
    "Si on a peu de features, on pourrait les afficher sur un histogramme afin d'évaluer à l'œil si il n'y a pas déjà une sélection à faire comme ici.\n",
    "\n",
    "Donc en utilisant  SelectFromModel  avec un seuil d'importance choisi à l'aide de l'argument  threshold  , on peut créer une sélection des features qui sont les plus importantes à la création d'un modèle."
   ]
  },
  {
   "cell_type": "code",
   "execution_count": 12,
   "id": "4c53fcfd",
   "metadata": {},
   "outputs": [
    {
     "name": "stdout",
     "output_type": "stream",
     "text": [
      "(7352, 80)\n"
     ]
    }
   ],
   "source": [
    "from sklearn.feature_selection import SelectFromModel\n",
    "select = SelectFromModel(rfc, prefit=True, threshold=0.003)\n",
    "X_train2 = select.transform(X_train)\n",
    "print(X_train2.shape)"
   ]
  },
  {
   "cell_type": "markdown",
   "id": "84ca4876",
   "metadata": {},
   "source": [
    "On a divisé par 5 le nombre de features utilisées, pas mal mais voyons si les performances restent similaires. À l'aide de l'argument threshold, on peut choisir le seuil d'importance que l'on souhaite pour les features à sélectionner.  On calcule en même temps le gain de temps car c'est ce qui nous intéresse principalement dans l'amélioration des performances.\n",
    "\n",
    "**Patientez. ça peut prendre quelques minutes**"
   ]
  },
  {
   "cell_type": "code",
   "execution_count": 13,
   "id": "836a07f5",
   "metadata": {},
   "outputs": [
    {
     "name": "stdout",
     "output_type": "stream",
     "text": [
      "accuracy 0.88 time 16.30s\n"
     ]
    }
   ],
   "source": [
    "import timeit\n",
    "\n",
    "rfc2 = RandomForestClassifier(n_estimators=500, oob_score=True)\n",
    "\n",
    "start_time = timeit.default_timer()\n",
    "\n",
    "rfc2 = rfc2.fit(X_train2, y_train)\n",
    "\n",
    "X_test2 = select.transform(X_test)\n",
    "\n",
    "pred = rfc2.predict(X_test2)\n",
    "elapsed = timeit.default_timer() - start_time\n",
    "accuracy = accuracy_score(y_test, pred)\n",
    "\n",
    "print(\"accuracy {:.2f} time {:.2f}s\".format(accuracy, elapsed))"
   ]
  },
  {
   "cell_type": "markdown",
   "id": "695a75e2",
   "metadata": {},
   "source": [
    "Et pour le modèle avec toutes les features"
   ]
  },
  {
   "cell_type": "markdown",
   "id": "23fe0e4b",
   "metadata": {},
   "source": [
    "On a donc plus que divisé par trois le temps de calcul, sans trop perdre en performances ! C'est plus que respectable pour un premier jet."
   ]
  },
  {
   "cell_type": "markdown",
   "id": "5473dc4c",
   "metadata": {},
   "source": [
    "## Conclusion"
   ]
  },
  {
   "cell_type": "markdown",
   "id": "6a0efbe0",
   "metadata": {},
   "source": [
    "A vous maintenant de bidouiller afin d'améliorer les performances du modèle finale en modifiant les différents hyperparamètres de contrôle et trouver la bonne balance entre performances de classification / temps de calcul. Bien sûr le ratio souhaité dépendra de la problématique : est-ce qu'on veut une très bonne performance et peu importe le temps de calcul, ou bien un temps de calcul le plus rapide possible mais avec une performance minimum etc etc"
   ]
  }
 ],
 "metadata": {
  "kernelspec": {
   "display_name": "Python 3",
   "language": "python",
   "name": "python3"
  },
  "language_info": {
   "codemirror_mode": {
    "name": "ipython",
    "version": 3
   },
   "file_extension": ".py",
   "mimetype": "text/x-python",
   "name": "python",
   "nbconvert_exporter": "python",
   "pygments_lexer": "ipython3",
   "version": "3.8.8"
  }
 },
 "nbformat": 4,
 "nbformat_minor": 5
}
